{
 "cells": [
  {
   "cell_type": "markdown",
   "metadata": {},
   "source": [
    "# 1. Import Dependencies"
   ]
  },
  {
   "cell_type": "code",
   "execution_count": 9,
   "metadata": {
    "scrolled": false
   },
   "outputs": [
    {
     "name": "stdout",
     "output_type": "stream",
     "text": [
      "Requirement already satisfied: opencv-python in d:\\code\\ovp800_ifm\\o3d38\\lib\\site-packages\\opencv_python-4.6.0.66-py3.8-win-amd64.egg (4.6.0.66)\n",
      "Requirement already satisfied: numpy>=1.14.5 in d:\\code\\ovp800_ifm\\o3d38\\lib\\site-packages (from opencv-python) (1.22.4)\n"
     ]
    },
    {
     "name": "stderr",
     "output_type": "stream",
     "text": [
      "WARNING: Ignoring invalid distribution -rotobuf (d:\\code\\ovp800_ifm\\o3d38\\lib\\site-packages)\n",
      "WARNING: Ignoring invalid distribution -ensorflow (d:\\code\\ovp800_ifm\\o3d38\\lib\\site-packages)\n",
      "WARNING: Ignoring invalid distribution -rotobuf (d:\\code\\ovp800_ifm\\o3d38\\lib\\site-packages)\n",
      "WARNING: Ignoring invalid distribution -ensorflow (d:\\code\\ovp800_ifm\\o3d38\\lib\\site-packages)\n",
      "WARNING: Ignoring invalid distribution -rotobuf (d:\\code\\ovp800_ifm\\o3d38\\lib\\site-packages)\n",
      "WARNING: Ignoring invalid distribution -ensorflow (d:\\code\\ovp800_ifm\\o3d38\\lib\\site-packages)\n",
      "WARNING: Ignoring invalid distribution -rotobuf (d:\\code\\ovp800_ifm\\o3d38\\lib\\site-packages)\n",
      "WARNING: Ignoring invalid distribution -ensorflow (d:\\code\\ovp800_ifm\\o3d38\\lib\\site-packages)\n",
      "WARNING: Ignoring invalid distribution -rotobuf (d:\\code\\ovp800_ifm\\o3d38\\lib\\site-packages)\n",
      "WARNING: Ignoring invalid distribution -ensorflow (d:\\code\\ovp800_ifm\\o3d38\\lib\\site-packages)\n",
      "WARNING: Ignoring invalid distribution -rotobuf (d:\\code\\ovp800_ifm\\o3d38\\lib\\site-packages)\n",
      "WARNING: Ignoring invalid distribution -ensorflow (d:\\code\\ovp800_ifm\\o3d38\\lib\\site-packages)\n"
     ]
    }
   ],
   "source": [
    "!pip install opencv-python"
   ]
  },
  {
   "cell_type": "code",
   "execution_count": 1,
   "metadata": {},
   "outputs": [],
   "source": [
    "# Import opencv\n",
    "import cv2 \n",
    "\n",
    "# Import uuid\n",
    "import uuid\n",
    "\n",
    "# Import Operating System\n",
    "import os\n",
    "\n",
    "# Import time\n",
    "import time"
   ]
  },
  {
   "cell_type": "markdown",
   "metadata": {},
   "source": [
    "# 2. Define Images to Collect"
   ]
  },
  {
   "cell_type": "code",
   "execution_count": 2,
   "metadata": {},
   "outputs": [],
   "source": [
    "labels = ['bouchon','bad']\n",
    "number_imgs = 15"
   ]
  },
  {
   "cell_type": "markdown",
   "metadata": {},
   "source": [
    "# 3. Setup Folders "
   ]
  },
  {
   "cell_type": "code",
   "execution_count": 3,
   "metadata": {},
   "outputs": [],
   "source": [
    "IMAGES_PATH = os.path.join('Tensorflow', 'workspace', 'images', 'test')"
   ]
  },
  {
   "cell_type": "code",
   "execution_count": 4,
   "metadata": {},
   "outputs": [],
   "source": [
    "if not os.path.exists(IMAGES_PATH):\n",
    "    if os.name == 'posix':\n",
    "        !mkdir -p {IMAGES_PATH}\n",
    "    if os.name == 'nt':\n",
    "         !mkdir {IMAGES_PATH}\n",
    "for label in labels:\n",
    "    path = os.path.join(IMAGES_PATH, label)\n",
    "    if not os.path.exists(path):\n",
    "        !mkdir {path}"
   ]
  },
  {
   "cell_type": "markdown",
   "metadata": {},
   "source": [
    "# 4. Capture Images"
   ]
  },
  {
   "cell_type": "code",
   "execution_count": 5,
   "metadata": {
    "scrolled": true
   },
   "outputs": [
    {
     "name": "stdout",
     "output_type": "stream",
     "text": [
      "Collecting images for bouchon\n",
      "Collecting image 0\n"
     ]
    },
    {
     "ename": "error",
     "evalue": "OpenCV(4.6.0) D:\\a\\opencv-python\\opencv-python\\opencv\\modules\\highgui\\src\\window.cpp:1267: error: (-2:Unspecified error) The function is not implemented. Rebuild the library with Windows, GTK+ 2.x or Cocoa support. If you are on Ubuntu or Debian, install libgtk2.0-dev and pkg-config, then re-run cmake or configure script in function 'cvShowImage'\n",
     "output_type": "error",
     "traceback": [
      "\u001b[1;31m---------------------------------------------------------------------------\u001b[0m",
      "\u001b[1;31merror\u001b[0m                                     Traceback (most recent call last)",
      "Input \u001b[1;32mIn [5]\u001b[0m, in \u001b[0;36m<cell line: 1>\u001b[1;34m()\u001b[0m\n\u001b[0;32m      8\u001b[0m imgname \u001b[38;5;241m=\u001b[39m os\u001b[38;5;241m.\u001b[39mpath\u001b[38;5;241m.\u001b[39mjoin(IMAGES_PATH,label,label\u001b[38;5;241m+\u001b[39m\u001b[38;5;124m'\u001b[39m\u001b[38;5;124m.\u001b[39m\u001b[38;5;124m'\u001b[39m\u001b[38;5;241m+\u001b[39m\u001b[38;5;124m'\u001b[39m\u001b[38;5;132;01m{}\u001b[39;00m\u001b[38;5;124m.jpg\u001b[39m\u001b[38;5;124m'\u001b[39m\u001b[38;5;241m.\u001b[39mformat(\u001b[38;5;28mstr\u001b[39m(uuid\u001b[38;5;241m.\u001b[39muuid1())))\n\u001b[0;32m      9\u001b[0m cv2\u001b[38;5;241m.\u001b[39mimwrite(imgname, frame)\n\u001b[1;32m---> 10\u001b[0m \u001b[43mcv2\u001b[49m\u001b[38;5;241;43m.\u001b[39;49m\u001b[43mimshow\u001b[49m\u001b[43m(\u001b[49m\u001b[38;5;124;43m'\u001b[39;49m\u001b[38;5;124;43mframe\u001b[39;49m\u001b[38;5;124;43m'\u001b[39;49m\u001b[43m,\u001b[49m\u001b[43m \u001b[49m\u001b[43mframe\u001b[49m\u001b[43m)\u001b[49m\n\u001b[0;32m     11\u001b[0m time\u001b[38;5;241m.\u001b[39msleep(\u001b[38;5;241m2\u001b[39m)\n\u001b[0;32m     13\u001b[0m \u001b[38;5;28;01mif\u001b[39;00m cv2\u001b[38;5;241m.\u001b[39mwaitKey(\u001b[38;5;241m1\u001b[39m) \u001b[38;5;241m&\u001b[39m \u001b[38;5;241m0xFF\u001b[39m \u001b[38;5;241m==\u001b[39m \u001b[38;5;28mord\u001b[39m(\u001b[38;5;124m'\u001b[39m\u001b[38;5;124mq\u001b[39m\u001b[38;5;124m'\u001b[39m):\n",
      "\u001b[1;31merror\u001b[0m: OpenCV(4.6.0) D:\\a\\opencv-python\\opencv-python\\opencv\\modules\\highgui\\src\\window.cpp:1267: error: (-2:Unspecified error) The function is not implemented. Rebuild the library with Windows, GTK+ 2.x or Cocoa support. If you are on Ubuntu or Debian, install libgtk2.0-dev and pkg-config, then re-run cmake or configure script in function 'cvShowImage'\n"
     ]
    }
   ],
   "source": [
    "for label in labels:\n",
    "    cap = cv2.VideoCapture(0)\n",
    "    print('Collecting images for {}'.format(label))\n",
    "    time.sleep(5)\n",
    "    for imgnum in range(number_imgs):\n",
    "        print('Collecting image {}'.format(imgnum))\n",
    "        ret, frame = cap.read()\n",
    "        imgname = os.path.join(IMAGES_PATH,label,label+'.'+'{}.jpg'.format(str(uuid.uuid1())))\n",
    "        cv2.imwrite(imgname, frame)\n",
    "        cv2.imshow('frame', frame)\n",
    "        time.sleep(2)\n",
    "\n",
    "        if cv2.waitKey(1) & 0xFF == ord('q'):\n",
    "            break\n",
    "cap.release()\n",
    "cv2.destroyAllWindows()"
   ]
  },
  {
   "cell_type": "markdown",
   "metadata": {},
   "source": [
    "# 5. Image Labelling"
   ]
  },
  {
   "cell_type": "code",
   "execution_count": 14,
   "metadata": {
    "scrolled": true
   },
   "outputs": [
    {
     "name": "stdout",
     "output_type": "stream",
     "text": [
      "Collecting pyqt5\n",
      "  Using cached PyQt5-5.15.7-cp37-abi3-win_amd64.whl (6.8 MB)\n",
      "Requirement already satisfied: lxml in d:\\code\\ovp800_ifm\\o3d38\\lib\\site-packages (4.9.1)\n",
      "Collecting PyQt5-Qt5>=5.15.0\n",
      "  Using cached PyQt5_Qt5-5.15.2-py3-none-win_amd64.whl (50.1 MB)\n",
      "Collecting PyQt5-sip<13,>=12.11\n",
      "  Downloading PyQt5_sip-12.11.0-cp38-cp38-win_amd64.whl (78 kB)\n",
      "     ---------------------------------------- 78.1/78.1 kB 4.5 MB/s eta 0:00:00\n",
      "Installing collected packages: PyQt5-Qt5, PyQt5-sip, pyqt5\n",
      "Successfully installed PyQt5-Qt5-5.15.2 PyQt5-sip-12.11.0 pyqt5-5.15.7\n"
     ]
    },
    {
     "name": "stderr",
     "output_type": "stream",
     "text": [
      "WARNING: Ignoring invalid distribution -rotobuf (d:\\code\\ovp800_ifm\\o3d38\\lib\\site-packages)\n",
      "WARNING: Ignoring invalid distribution -ensorflow (d:\\code\\ovp800_ifm\\o3d38\\lib\\site-packages)\n",
      "WARNING: Ignoring invalid distribution -rotobuf (d:\\code\\ovp800_ifm\\o3d38\\lib\\site-packages)\n",
      "WARNING: Ignoring invalid distribution -ensorflow (d:\\code\\ovp800_ifm\\o3d38\\lib\\site-packages)\n",
      "WARNING: Ignoring invalid distribution -rotobuf (d:\\code\\ovp800_ifm\\o3d38\\lib\\site-packages)\n",
      "WARNING: Ignoring invalid distribution -ensorflow (d:\\code\\ovp800_ifm\\o3d38\\lib\\site-packages)\n",
      "WARNING: Ignoring invalid distribution -rotobuf (d:\\code\\ovp800_ifm\\o3d38\\lib\\site-packages)\n",
      "WARNING: Ignoring invalid distribution -ensorflow (d:\\code\\ovp800_ifm\\o3d38\\lib\\site-packages)\n",
      "WARNING: Ignoring invalid distribution -rotobuf (d:\\code\\ovp800_ifm\\o3d38\\lib\\site-packages)\n",
      "WARNING: Ignoring invalid distribution -ensorflow (d:\\code\\ovp800_ifm\\o3d38\\lib\\site-packages)\n",
      "WARNING: Ignoring invalid distribution -rotobuf (d:\\code\\ovp800_ifm\\o3d38\\lib\\site-packages)\n",
      "WARNING: Ignoring invalid distribution -ensorflow (d:\\code\\ovp800_ifm\\o3d38\\lib\\site-packages)\n",
      "WARNING: Ignoring invalid distribution -rotobuf (d:\\code\\ovp800_ifm\\o3d38\\lib\\site-packages)\n",
      "WARNING: Ignoring invalid distribution -ensorflow (d:\\code\\ovp800_ifm\\o3d38\\lib\\site-packages)\n",
      "WARNING: Ignoring invalid distribution -rotobuf (d:\\code\\ovp800_ifm\\o3d38\\lib\\site-packages)\n",
      "WARNING: Ignoring invalid distribution -ensorflow (d:\\code\\ovp800_ifm\\o3d38\\lib\\site-packages)\n",
      "WARNING: Ignoring invalid distribution -rotobuf (d:\\code\\ovp800_ifm\\o3d38\\lib\\site-packages)\n",
      "WARNING: Ignoring invalid distribution -ensorflow (d:\\code\\ovp800_ifm\\o3d38\\lib\\site-packages)\n"
     ]
    }
   ],
   "source": [
    "!pip install --upgrade pyqt5 lxml"
   ]
  },
  {
   "cell_type": "code",
   "execution_count": 5,
   "metadata": {},
   "outputs": [],
   "source": [
    "LABELIMG_PATH = os.path.join('Tensorflow', 'labelimg')"
   ]
  },
  {
   "cell_type": "code",
   "execution_count": 6,
   "metadata": {},
   "outputs": [],
   "source": [
    "if not os.path.exists(LABELIMG_PATH):\n",
    "    !mkdir {LABELIMG_PATH}\n",
    "    !git clone https://github.com/tzutalin/labelImg {LABELIMG_PATH}"
   ]
  },
  {
   "cell_type": "code",
   "execution_count": 7,
   "metadata": {},
   "outputs": [],
   "source": [
    "if os.name == 'posix':\n",
    "    !make qt5py3\n",
    "if os.name =='nt':\n",
    "    !cd {LABELIMG_PATH} && pyrcc5 -o libs/resources.py resources.qrc"
   ]
  },
  {
   "cell_type": "code",
   "execution_count": 11,
   "metadata": {
    "scrolled": true
   },
   "outputs": [
    {
     "name": "stdout",
     "output_type": "stream",
     "text": [
      "Image:D:\\Code\\OVP800_IFM\\Tensorflow\\workspace\\images\\test\\bouchon16.jpg -> Annotation:D:/Code/OVP800_IFM/Tensorflow/workspace/images/test/bouchon16.xml\n",
      "Image:D:\\Code\\OVP800_IFM\\Tensorflow\\workspace\\images\\test\\bouchon24.jpg -> Annotation:D:/Code/OVP800_IFM/Tensorflow/workspace/images/test/bouchon24.xml\n"
     ]
    }
   ],
   "source": [
    "!cd {LABELIMG_PATH} && python labelImg.py"
   ]
  },
  {
   "cell_type": "markdown",
   "metadata": {},
   "source": [
    "# 6. Move them into a Training and Testing Partition"
   ]
  },
  {
   "cell_type": "markdown",
   "metadata": {},
   "source": [
    "# OPTIONAL - 7. Compress them for Colab Training"
   ]
  },
  {
   "cell_type": "code",
   "execution_count": 20,
   "metadata": {},
   "outputs": [],
   "source": [
    "TRAIN_PATH = os.path.join('Tensorflow', 'workspace', 'images', 'train')\n",
    "TEST_PATH = os.path.join('Tensorflow', 'workspace', 'images', 'test')\n",
    "ARCHIVE_PATH = os.path.join('Tensorflow', 'workspace', 'images', 'archive.tar.gz')"
   ]
  },
  {
   "cell_type": "code",
   "execution_count": 21,
   "metadata": {},
   "outputs": [],
   "source": [
    "!tar -czf {ARCHIVE_PATH} {TRAIN_PATH} {TEST_PATH}"
   ]
  },
  {
   "cell_type": "code",
   "execution_count": null,
   "metadata": {},
   "outputs": [],
   "source": []
  }
 ],
 "metadata": {
  "kernelspec": {
   "display_name": "O3D38",
   "language": "python",
   "name": "o3d38"
  },
  "language_info": {
   "codemirror_mode": {
    "name": "ipython",
    "version": 3
   },
   "file_extension": ".py",
   "mimetype": "text/x-python",
   "name": "python",
   "nbconvert_exporter": "python",
   "pygments_lexer": "ipython3",
   "version": "3.8.10"
  }
 },
 "nbformat": 4,
 "nbformat_minor": 2
}
